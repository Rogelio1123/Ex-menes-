{
 "cells": [
  {
   "cell_type": "markdown",
   "id": "78592086",
   "metadata": {},
   "source": [
    "# Problema 1"
   ]
  },
  {
   "cell_type": "code",
   "execution_count": 9,
   "id": "c16661be",
   "metadata": {},
   "outputs": [],
   "source": [
    "def func(n):\n",
    "    if n==4:\n",
    "        return n\n",
    "    else:\n",
    "        return 2*func(n+1)"
   ]
  },
  {
   "cell_type": "code",
   "execution_count": 7,
   "id": "2f15cbcb",
   "metadata": {},
   "outputs": [
    {
     "data": {
      "text/plain": [
       "16"
      ]
     },
     "execution_count": 7,
     "metadata": {},
     "output_type": "execute_result"
    }
   ],
   "source": [
    "func(2)"
   ]
  },
  {
   "cell_type": "markdown",
   "id": "3efa6b4e",
   "metadata": {},
   "source": [
    " # Problema 2"
   ]
  },
  {
   "cell_type": "code",
   "execution_count": 10,
   "id": "be1104a7",
   "metadata": {},
   "outputs": [],
   "source": [
    "def f(x,y):\n",
    "    if x==0:\n",
    "        return y\n",
    "    return f(x-1,x+y) "
   ]
  },
  {
   "cell_type": "code",
   "execution_count": 11,
   "id": "22a043de",
   "metadata": {},
   "outputs": [
    {
     "data": {
      "text/plain": [
       "13"
      ]
     },
     "execution_count": 11,
     "metadata": {},
     "output_type": "execute_result"
    }
   ],
   "source": [
    "f(4,3)"
   ]
  },
  {
   "cell_type": "markdown",
   "id": "119f9def",
   "metadata": {},
   "source": [
    "# Problema 3"
   ]
  },
  {
   "cell_type": "code",
   "execution_count": 12,
   "id": "b68d602e",
   "metadata": {},
   "outputs": [],
   "source": [
    "def g(n):\n",
    "    if n==0 or n==1:\n",
    "        return n\n",
    "    if n%3!=0:\n",
    "        return 0\n",
    "    return g(n/3)"
   ]
  },
  {
   "cell_type": "code",
   "execution_count": 21,
   "id": "d0dc54aa",
   "metadata": {},
   "outputs": [
    {
     "data": {
      "text/plain": [
       "1.0"
      ]
     },
     "execution_count": 21,
     "metadata": {},
     "output_type": "execute_result"
    }
   ],
   "source": [
    "g(27)"
   ]
  },
  {
   "cell_type": "code",
   "execution_count": 14,
   "id": "160caadc",
   "metadata": {},
   "outputs": [
    {
     "data": {
      "text/plain": [
       "0"
      ]
     },
     "execution_count": 14,
     "metadata": {},
     "output_type": "execute_result"
    }
   ],
   "source": [
    "g(7)"
   ]
  },
  {
   "cell_type": "code",
   "execution_count": 15,
   "id": "29962298",
   "metadata": {},
   "outputs": [
    {
     "data": {
      "text/plain": [
       "1.0"
      ]
     },
     "execution_count": 15,
     "metadata": {},
     "output_type": "execute_result"
    }
   ],
   "source": [
    "g(9)"
   ]
  },
  {
   "cell_type": "code",
   "execution_count": 16,
   "id": "41156eb7",
   "metadata": {},
   "outputs": [
    {
     "data": {
      "text/plain": [
       "1.0"
      ]
     },
     "execution_count": 16,
     "metadata": {},
     "output_type": "execute_result"
    }
   ],
   "source": [
    "g(3)"
   ]
  },
  {
   "cell_type": "code",
   "execution_count": 17,
   "id": "48a6d6b7",
   "metadata": {},
   "outputs": [
    {
     "data": {
      "text/plain": [
       "0"
      ]
     },
     "execution_count": 17,
     "metadata": {},
     "output_type": "execute_result"
    }
   ],
   "source": [
    "g(8)"
   ]
  },
  {
   "cell_type": "markdown",
   "id": "c6d9c206",
   "metadata": {},
   "source": [
    "# Problema 6"
   ]
  },
  {
   "cell_type": "code",
   "execution_count": 469,
   "id": "32a635fa",
   "metadata": {},
   "outputs": [],
   "source": [
    "import itertools\n",
    "\n",
    "def valida(cadena):\n",
    "    pila=[]\n",
    "    llaves={'{':'}'}\n",
    "    for c in cadena:\n",
    "        if c in llaves:\n",
    "            pila.append(c)\n",
    "        elif len(pila)==0 or c!=llaves[pila.pop()]:\n",
    "            return False\n",
    "    return len(pila)==0\n",
    "\n",
    "def ParentesisBalanceados(n):\n",
    "    base=\"\"\n",
    "    for i in range(n):\n",
    "        base+=\"{\" \n",
    "    for i in range(n):\n",
    "        base+=\"}\"      \n",
    "    permutaciones=list(set(itertools.permutations(base)))\n",
    "    h=[]\n",
    "    for i in range(len(permutaciones)):\n",
    "        if permutaciones[i][0]==\"{\" and permutaciones[i][-1]==\"}\":\n",
    "            h.append(permutaciones[i])\n",
    "    l=[]\n",
    "    for e in set(h):\n",
    "        if valida(e)==True:\n",
    "            l.append(e)\n",
    "    for i in range(len(l)):\n",
    "        parentesis=\"\"\n",
    "        for j in range(2*n):\n",
    "            parentesis=parentesis+l[i][j]\n",
    "        print(parentesis)"
   ]
  },
  {
   "cell_type": "code",
   "execution_count": 494,
   "id": "c2be45f4",
   "metadata": {},
   "outputs": [
    {
     "name": "stdout",
     "output_type": "stream",
     "text": [
      "{{{{}}{{}}}}\n",
      "{{}}{}{{}{}}\n",
      "{{{{{}}{}}}}\n",
      "{{}{}{}}{}{}\n",
      "{{{}{}}{{}}}\n",
      "{{}}{{}}{{}}\n",
      "{{}}{{{{}}}}\n",
      "{}{{}{}{{}}}\n",
      "{}{{{}{}}}{}\n",
      "{{}}{{{}}{}}\n",
      "{{{{}{{}}}}}\n",
      "{}{{}{}}{{}}\n",
      "{}{{}}{}{{}}\n",
      "{}{{{}}{{}}}\n",
      "{{}}{}{}{{}}\n",
      "{{{}}}{}{}{}\n",
      "{{{}{{}{}}}}\n",
      "{{}{{}{{}}}}\n",
      "{}{}{{}}{}{}\n",
      "{{}{{{}}}{}}\n",
      "{{}{{}}{{}}}\n",
      "{{{}}{}{}}{}\n",
      "{{{{{{}}}}}}\n",
      "{}{{}{{}}{}}\n",
      "{{}{{{}{}}}}\n",
      "{{{{}}}}{{}}\n",
      "{{}}{{}{}}{}\n",
      "{}{{{}{{}}}}\n",
      "{}{{{{}}}{}}\n",
      "{}{{}}{{}}{}\n",
      "{}{}{{{}{}}}\n",
      "{{{}}{}{}{}}\n",
      "{{}{}{{}}{}}\n",
      "{{}}{}{{}}{}\n",
      "{}{}{{}}{{}}\n",
      "{}{{}{}{}}{}\n",
      "{{}{}{}{{}}}\n",
      "{{}}{{{}}}{}\n",
      "{{{}{{{}}}}}\n",
      "{{}{{{}}}}{}\n",
      "{{}}{{}{}{}}\n",
      "{}{}{{}{}{}}\n",
      "{{}{}{}{}{}}\n",
      "{}{{{}}{}{}}\n",
      "{{}{}}{}{}{}\n",
      "{{{}}}{{}}{}\n",
      "{{}{}}{{}{}}\n",
      "{{{}}{{}}}{}\n",
      "{}{}{}{{}{}}\n",
      "{{{{}}{}}}{}\n",
      "{}{{{{}{}}}}\n",
      "{{{{}}}{}{}}\n",
      "{{}{{}}{}{}}\n",
      "{}{{{}}}{{}}\n",
      "{}{}{{}{{}}}\n",
      "{}{{{}{}}{}}\n",
      "{}{{}}{{}{}}\n",
      "{{{}{}{}}}{}\n",
      "{}{{}}{{{}}}\n",
      "{{}}{}{{{}}}\n",
      "{{}{{{{}}}}}\n",
      "{{{}{}}}{}{}\n",
      "{{{{}}}}{}{}\n",
      "{{{}}}{}{{}}\n",
      "{{{{}{}{}}}}\n",
      "{{{}{}}{}{}}\n",
      "{}{}{}{}{}{}\n",
      "{{}{}{}{}}{}\n",
      "{{{{{}}}}}{}\n",
      "{{{}}{{}{}}}\n",
      "{{{}}{{}}{}}\n",
      "{{{}}{}}{{}}\n",
      "{{}{}}{{{}}}\n",
      "{{}{}}{}{{}}\n",
      "{{{}}{{{}}}}\n",
      "{{{{{}}}}{}}\n",
      "{}{}{{{}}}{}\n",
      "{{{}{}}}{{}}\n",
      "{{}{{}}}{{}}\n",
      "{{}{{}{}}{}}\n",
      "{{{{}{}}}}{}\n",
      "{{{{}}{}}{}}\n",
      "{}{{}{}{}{}}\n",
      "{{{}}}{{{}}}\n",
      "{{}{{}{}{}}}\n",
      "{{{}{{}}}}{}\n",
      "{}{}{}{{}}{}\n",
      "{{{{}{}}}{}}\n",
      "{}{}{{{{}}}}\n",
      "{{{{}}}{}}{}\n",
      "{{}{{}}{}}{}\n",
      "{}{{{}}}{}{}\n",
      "{}{{{}}{}}{}\n",
      "{}{{{{{}}}}}\n",
      "{}{}{}{{{}}}\n",
      "{{{{}}}{{}}}\n",
      "{{}{}}{{}}{}\n",
      "{}{{{}{}{}}}\n",
      "{{}}{{}}{}{}\n",
      "{{{}{}{{}}}}\n",
      "{{{}{}{}{}}}\n",
      "{{{}{}{}}{}}\n",
      "{{}{}{{{}}}}\n",
      "{}{{}{}}{}{}\n",
      "{{{}{{}}{}}}\n",
      "{{}{}{}}{{}}\n",
      "{}{{}{{}}}{}\n",
      "{{{}}{}}{}{}\n",
      "{{}{{{}}{}}}\n",
      "{}{}{}{}{{}}\n",
      "{}{{}{{{}}}}\n",
      "{}{}{{{}}{}}\n",
      "{}{{}{{}{}}}\n",
      "{{}{{}{}}}{}\n",
      "{{}{}{{}}}{}\n",
      "{{{{{}}}{}}}\n",
      "{{}{{}}}{}{}\n",
      "{{}}{{}{{}}}\n",
      "{{{{{}{}}}}}\n",
      "{}{{{{}}}}{}\n",
      "{}{{{{}}{}}}\n",
      "{{}}{{{}{}}}\n",
      "{{{{}{}}{}}}\n",
      "{{{}{{}}}{}}\n",
      "{{{{}}{}{}}}\n",
      "{}{}{{}{}}{}\n",
      "{}{{}}{}{}{}\n",
      "{{}}{}{}{}{}\n",
      "{{{}}{}{{}}}\n",
      "{{{}{}}{}}{}\n",
      "{{{}}}{{}{}}\n",
      "{{}{}{{}{}}}\n"
     ]
    }
   ],
   "source": [
    "ParentesisBalanceados(6)"
   ]
  },
  {
   "cell_type": "markdown",
   "id": "d76194eb",
   "metadata": {},
   "source": [
    "# Problema 7"
   ]
  },
  {
   "cell_type": "code",
   "execution_count": 464,
   "id": "28c0cec0",
   "metadata": {},
   "outputs": [],
   "source": [
    "import itertools \n",
    "\n",
    "def NSubstring(c,n): \n",
    "    potencia=[]\n",
    "    for i in range(len(c)):\n",
    "        potencia=potencia+list(itertools.combinations(c,i+1))\n",
    "    flat=[]\n",
    "    for e in potencia:\n",
    "        crc=\"\"\n",
    "        for i in range(len(e)):\n",
    "            crc=crc+e[i]\n",
    "        flat.append(crc)\n",
    "    lista=list(flat)\n",
    "    lista.sort()\n",
    "    cadena=\"\"\n",
    "    for e in lista:\n",
    "        cadena = cadena + e\n",
    "    contador=[]\n",
    "    for e in lista:\n",
    "        j=0\n",
    "        for i in range(len(e)):\n",
    "            contador.append(e[j])\n",
    "            j+=1\n",
    "    print(\"La cadena ordenada es: \" + cadena)\n",
    "    print(\"La letra en la posición_ \" +  str(n)  + \" es: \" + contador[n-1])"
   ]
  },
  {
   "cell_type": "code",
   "execution_count": 467,
   "id": "66fb7450",
   "metadata": {},
   "outputs": [
    {
     "name": "stdout",
     "output_type": "stream",
     "text": [
      "La cadena ordenada es: aababdadbbddhhahabhabdhadhbhbdhdhnhnahnabhnabdhnadhnbhnbdhndnnanabnabdnadnbnbdnd\n",
      "La letra en la posición_ 15 es: a\n"
     ]
    }
   ],
   "source": [
    "NSubstring('hnabd',15)"
   ]
  },
  {
   "cell_type": "markdown",
   "id": "bba0e71c",
   "metadata": {},
   "source": [
    "# Problema 8 "
   ]
  },
  {
   "cell_type": "code",
   "execution_count": 487,
   "id": "94c628bf",
   "metadata": {},
   "outputs": [],
   "source": [
    "def SuperDigit(cifra, veces):\n",
    "    numero=\"\"\n",
    "    for j in range(veces):\n",
    "        numero = numero + str(cifra)\n",
    "    if len(numero)==1:\n",
    "        print(n)\n",
    "    else:\n",
    "        while len(numero)!=1:\n",
    "            sum=0\n",
    "            for i in range(len(numero)):\n",
    "                sum=sum + int(numero[i])\n",
    "            numero=str(sum)\n",
    "        return int(numero)            "
   ]
  },
  {
   "cell_type": "code",
   "execution_count": 493,
   "id": "fca8f5d8",
   "metadata": {},
   "outputs": [
    {
     "data": {
      "text/plain": [
       "3"
      ]
     },
     "execution_count": 493,
     "metadata": {},
     "output_type": "execute_result"
    }
   ],
   "source": [
    "SuperDigit(148,3)"
   ]
  },
  {
   "cell_type": "code",
   "execution_count": 1,
   "id": "c2309a7e",
   "metadata": {},
   "outputs": [
    {
     "ename": "IndentationError",
     "evalue": "expected an indented block (<ipython-input-1-3dc906a1458c>, line 3)",
     "output_type": "error",
     "traceback": [
      "\u001b[1;36m  File \u001b[1;32m\"<ipython-input-1-3dc906a1458c>\"\u001b[1;36m, line \u001b[1;32m3\u001b[0m\n\u001b[1;33m    c=1s\u001b[0m\n\u001b[1;37m    ^\u001b[0m\n\u001b[1;31mIndentationError\u001b[0m\u001b[1;31m:\u001b[0m expected an indented block\n"
     ]
    }
   ],
   "source": [
    "def max_num(a, b):\n",
    "\n",
    "c=1s\n",
    "\n",
    "return max(a,b)+c"
   ]
  },
  {
   "cell_type": "code",
   "execution_count": null,
   "id": "f60206da",
   "metadata": {},
   "outputs": [],
   "source": []
  }
 ],
 "metadata": {
  "kernelspec": {
   "display_name": "Python 3",
   "language": "python",
   "name": "python3"
  },
  "language_info": {
   "codemirror_mode": {
    "name": "ipython",
    "version": 3
   },
   "file_extension": ".py",
   "mimetype": "text/x-python",
   "name": "python",
   "nbconvert_exporter": "python",
   "pygments_lexer": "ipython3",
   "version": "3.8.8"
  }
 },
 "nbformat": 4,
 "nbformat_minor": 5
}
