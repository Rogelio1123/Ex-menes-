{
 "cells": [
  {
   "cell_type": "markdown",
   "id": "35570320",
   "metadata": {},
   "source": [
    "# Problema 1"
   ]
  },
  {
   "cell_type": "code",
   "execution_count": 136,
   "id": "4ca2993b",
   "metadata": {},
   "outputs": [],
   "source": [
    "import numpy as np \n",
    "\n",
    "def proba_circ(n):\n",
    "    x_array=np.random.uniform(0,1,n)-1/2\n",
    "    y_array=np.random.uniform(0,1,n)-1/2\n",
    "    in_circ=(x_array*x_array+y_array*y_array)<1/4\n",
    "    times_in=np.count_nonzero(in_circ==True)\n",
    "    proba=times_in/n\n",
    "    print(proba)"
   ]
  },
  {
   "cell_type": "code",
   "execution_count": 138,
   "id": "b99a0178",
   "metadata": {},
   "outputs": [
    {
     "name": "stdout",
     "output_type": "stream",
     "text": [
      "0.81\n"
     ]
    }
   ],
   "source": [
    "proba_circ(100)"
   ]
  },
  {
   "cell_type": "code",
   "execution_count": 139,
   "id": "40149c00",
   "metadata": {},
   "outputs": [
    {
     "name": "stdout",
     "output_type": "stream",
     "text": [
      "0.785\n"
     ]
    }
   ],
   "source": [
    "proba_circ(1000)"
   ]
  },
  {
   "cell_type": "code",
   "execution_count": 140,
   "id": "48effc8e",
   "metadata": {},
   "outputs": [
    {
     "name": "stdout",
     "output_type": "stream",
     "text": [
      "0.7829\n"
     ]
    }
   ],
   "source": [
    "proba_circ(10000)"
   ]
  },
  {
   "cell_type": "code",
   "execution_count": 143,
   "id": "ca12c7ed",
   "metadata": {},
   "outputs": [
    {
     "name": "stdout",
     "output_type": "stream",
     "text": [
      "0.78538342\n"
     ]
    }
   ],
   "source": [
    "proba_circ(100000000)"
   ]
  },
  {
   "cell_type": "code",
   "execution_count": 144,
   "id": "ca45b257",
   "metadata": {},
   "outputs": [
    {
     "name": "stdout",
     "output_type": "stream",
     "text": [
      "0.7853981633974483\n"
     ]
    }
   ],
   "source": [
    "import numpy as np \n",
    "print(np.pi/4)"
   ]
  },
  {
   "cell_type": "markdown",
   "id": "75ecbe4a",
   "metadata": {},
   "source": [
    "# Problema 2"
   ]
  },
  {
   "cell_type": "code",
   "execution_count": 211,
   "id": "981ab24a",
   "metadata": {},
   "outputs": [],
   "source": [
    "import numpy as np \n",
    "\n",
    "def rep(lista):\n",
    "    k=1\n",
    "    n=0\n",
    "    l=np.array(lista)\n",
    "    l.sort()\n",
    "    unil=np.unique(l)\n",
    "    while n<len(unil) and k==1:\n",
    "        comp=(l==unil[n])\n",
    "        cont=np.count_nonzero(comp==True)\n",
    "        if cont>1:\n",
    "            k+=1\n",
    "            h=n\n",
    "        n+=1\n",
    "    print(unil[h])"
   ]
  },
  {
   "cell_type": "code",
   "execution_count": 197,
   "id": "f649ba5b",
   "metadata": {},
   "outputs": [],
   "source": [
    "import numpy as np \n",
    "\n",
    "def rep_all(lista):\n",
    "    dup=[]\n",
    "    n=0\n",
    "    l=np.array(lista)\n",
    "    l.sort()\n",
    "    unil=np.unique(l)\n",
    "    while n<len(unil):\n",
    "        comp=(l==unil[n])\n",
    "        cont=np.count_nonzero(comp==True)\n",
    "        if cont>1:\n",
    "            dup.append(unil[n])\n",
    "        n+=1\n",
    "    print(dup)"
   ]
  },
  {
   "cell_type": "code",
   "execution_count": 214,
   "id": "a989310d",
   "metadata": {},
   "outputs": [
    {
     "name": "stdout",
     "output_type": "stream",
     "text": [
      "3\n"
     ]
    }
   ],
   "source": [
    "rep([1,2,3,3,3,3,3,4,5,6,7,8,9,9,6])"
   ]
  },
  {
   "cell_type": "code",
   "execution_count": 198,
   "id": "0d7c312e",
   "metadata": {},
   "outputs": [
    {
     "name": "stdout",
     "output_type": "stream",
     "text": [
      "[1, 2, 6, 8]\n"
     ]
    }
   ],
   "source": [
    "rep_all([1,1,2,2,3,4,5,6,6,2,2,7,8,8,9])"
   ]
  },
  {
   "cell_type": "code",
   "execution_count": 215,
   "id": "0ac8da51",
   "metadata": {},
   "outputs": [
    {
     "name": "stdout",
     "output_type": "stream",
     "text": [
      "[9]\n"
     ]
    }
   ],
   "source": [
    "rep_all([1,2,3,4,5,6,7,8,9,9])"
   ]
  },
  {
   "cell_type": "markdown",
   "id": "b5a6a75a",
   "metadata": {},
   "source": [
    "# Problema 3"
   ]
  },
  {
   "cell_type": "code",
   "execution_count": 311,
   "id": "be7211d4",
   "metadata": {},
   "outputs": [
    {
     "name": "stdout",
     "output_type": "stream",
     "text": [
      "[1, 2, 'FIZZ', 4, 'BUZZ', 'FIZZ', 7, 8, 'FIZZ', 'BUZZ', 11, 'FIZZ', 13, 14, 'FIZZ/BUZZ', 16, 17, 'FIZZ', 19, 'BUZZ', 'FIZZ', 22, 23, 'FIZZ', 'BUZZ', 26, 'FIZZ', 28, 29, 'FIZZ/BUZZ', 31, 32, 'FIZZ', 34, 'BUZZ', 'FIZZ', 37, 38, 'FIZZ', 'BUZZ', 41, 'FIZZ', 43, 44, 'FIZZ/BUZZ', 46, 47, 'FIZZ', 49, 'BUZZ', 'FIZZ', 52, 53, 'FIZZ', 'BUZZ', 56, 'FIZZ', 58, 59, 'FIZZ/BUZZ', 61, 62, 'FIZZ', 64, 'BUZZ', 'FIZZ', 67, 68, 'FIZZ', 'BUZZ', 71, 'FIZZ', 73, 74, 'FIZZ/BUZZ', 76, 77, 'FIZZ', 79, 'BUZZ', 'FIZZ', 82, 83, 'FIZZ', 'BUZZ', 86, 'FIZZ', 88, 89, 'FIZZ/BUZZ', 91, 92, 'FIZZ', 94, 'BUZZ', 'FIZZ', 97, 98, 'FIZZ', 'BUZZ']\n"
     ]
    }
   ],
   "source": [
    "l=[]\n",
    "i=1\n",
    "while i<=100:\n",
    "    if i%3==0 and i%5==0:\n",
    "        l.append(\"FIZZ/BUZZ\")\n",
    "    elif i%5==0:\n",
    "        l.append(\"BUZZ\")\n",
    "    elif i%3==0:\n",
    "        l.append(\"FIZZ\")\n",
    "    else:\n",
    "        l.append(i)\n",
    "    i+=1\n",
    "print(l)"
   ]
  },
  {
   "cell_type": "markdown",
   "id": "7dc8a199",
   "metadata": {},
   "source": [
    "# Problema 4"
   ]
  },
  {
   "cell_type": "code",
   "execution_count": 69,
   "id": "b7ef0f0b",
   "metadata": {},
   "outputs": [],
   "source": [
    "import numpy as np\n",
    "\n",
    "def verificador(ip): #el input es la ip en string, por ejemplo: '192.32.43.5'\n",
    "    if len(ip)<=15:\n",
    "        ipv4_array=np.array(ip.split('.'))\n",
    "        ent = lambda t: int(t)\n",
    "        ent_func = np.vectorize(ent)\n",
    "        comp=ent_func(ipv4_array)<=420\n",
    "        cont=np.count_nonzero(comp==True)\n",
    "        if cont==4:\n",
    "            print('La dirección ip introducida corresponde a una IPv42')\n",
    "        else:\n",
    "            print('la dirección ip introducida NO corresponde a una IPv42')\n",
    "    elif len(ip)==39:\n",
    "        ipv6_array=np.array(ip.split(':'))\n",
    "        fun = lambda t: t.isdigit()\n",
    "        func = np.vectorize(fun)\n",
    "        comp=func(ipv6_array)\n",
    "        entstr=np.where(comp==False)\n",
    "        def convert(string):\n",
    "            list1=[]\n",
    "            list1[:0]=string\n",
    "            return list1\n",
    "        ll=[]\n",
    "        for i in range(len(entstr[0])):\n",
    "            ll.append(convert(ipv6_array[entstr[0][i]]))\n",
    "        comp1=np.array(ll).flatten()<'i'\n",
    "        cont=np.count_nonzero(comp1==True)\n",
    "        if cont==4*len(entstr[0]):\n",
    "            print('La dirección ip introducida corresponde a una IPv62')\n",
    "        else:\n",
    "            print('la dirección ip introducida NO corresponde a una IPv62')\n",
    "    else:\n",
    "        print('la dirección ip introducida NO corresponde a una IPv42 ni a una IPv62')"
   ]
  },
  {
   "cell_type": "code",
   "execution_count": 70,
   "id": "504721b5",
   "metadata": {},
   "outputs": [
    {
     "name": "stdout",
     "output_type": "stream",
     "text": [
      "La dirección ip introducida corresponde a una IPv62\n"
     ]
    }
   ],
   "source": [
    "verificador('2001:0dh8:85a3:0000:0000:8a2e:0370:7334')"
   ]
  },
  {
   "cell_type": "code",
   "execution_count": 71,
   "id": "4aa054f4",
   "metadata": {},
   "outputs": [
    {
     "name": "stdout",
     "output_type": "stream",
     "text": [
      "La dirección ip introducida corresponde a una IPv42\n"
     ]
    }
   ],
   "source": [
    "verificador('192.10.24.4')"
   ]
  },
  {
   "cell_type": "code",
   "execution_count": 72,
   "id": "ee2ff690",
   "metadata": {},
   "outputs": [
    {
     "name": "stdout",
     "output_type": "stream",
     "text": [
      "la dirección ip introducida NO corresponde a una IPv62\n"
     ]
    }
   ],
   "source": [
    "verificador('200i:0dh8:85a3:0000:0000:8a2e:0370:7334')"
   ]
  },
  {
   "cell_type": "code",
   "execution_count": 73,
   "id": "5de98404",
   "metadata": {},
   "outputs": [
    {
     "name": "stdout",
     "output_type": "stream",
     "text": [
      "La dirección ip introducida corresponde a una IPv42\n"
     ]
    }
   ],
   "source": [
    "verificador('192.10.24.420')"
   ]
  },
  {
   "cell_type": "code",
   "execution_count": 74,
   "id": "4fe8d88c",
   "metadata": {},
   "outputs": [
    {
     "name": "stdout",
     "output_type": "stream",
     "text": [
      "la dirección ip introducida NO corresponde a una IPv42\n"
     ]
    }
   ],
   "source": [
    "verificador('192.10.24.421')"
   ]
  },
  {
   "cell_type": "code",
   "execution_count": 75,
   "id": "316cc182",
   "metadata": {},
   "outputs": [
    {
     "name": "stdout",
     "output_type": "stream",
     "text": [
      "la dirección ip introducida NO corresponde a una IPv42 ni a una IPv62\n"
     ]
    }
   ],
   "source": [
    "verificador('20020:0dh8:85a3:0000:0000:8a2e:0370:7334')"
   ]
  },
  {
   "cell_type": "code",
   "execution_count": 76,
   "id": "c32c4bac",
   "metadata": {},
   "outputs": [
    {
     "name": "stdout",
     "output_type": "stream",
     "text": [
      "la dirección ip introducida NO corresponde a una IPv42 ni a una IPv62\n"
     ]
    }
   ],
   "source": [
    "verificador('20020:0dh8:85a3:0000:0000:8a2e:0370')"
   ]
  },
  {
   "cell_type": "code",
   "execution_count": null,
   "id": "a9946609",
   "metadata": {},
   "outputs": [],
   "source": []
  }
 ],
 "metadata": {
  "kernelspec": {
   "display_name": "Python 3",
   "language": "python",
   "name": "python3"
  },
  "language_info": {
   "codemirror_mode": {
    "name": "ipython",
    "version": 3
   },
   "file_extension": ".py",
   "mimetype": "text/x-python",
   "name": "python",
   "nbconvert_exporter": "python",
   "pygments_lexer": "ipython3",
   "version": "3.8.8"
  }
 },
 "nbformat": 4,
 "nbformat_minor": 5
}
